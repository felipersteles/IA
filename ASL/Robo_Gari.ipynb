{
  "nbformat": 4,
  "nbformat_minor": 0,
  "metadata": {
    "colab": {
      "provenance": []
    },
    "kernelspec": {
      "name": "python3",
      "display_name": "Python 3"
    },
    "language_info": {
      "name": "python"
    }
  },
  "cells": [
    {
      "cell_type": "code",
      "execution_count": 79,
      "metadata": {
        "id": "CJYGUnHHX2kB"
      },
      "outputs": [],
      "source": [
        "from google.colab import output\n",
        "\n",
        "def return_zero():\n",
        "    print('Starting function return_zero()...')\n",
        "    return 0\n",
        "\n",
        "class Position:\n",
        "  def __init__(self, row, column):\n",
        "    self.row = row \n",
        "    self.column = column \n",
        "\n",
        "class Robo:\n",
        "  value = 1\n",
        "\n",
        "  def __init__(self, name, position):\n",
        "    self.name = name \n",
        "    self.position = position\n",
        "\n",
        "  def agent_simples():\n",
        "    print(\"agente simples\")\n",
        "\n",
        "  def move(self, position):\n",
        "    self.position = position\n",
        "\n",
        "\n",
        "\n",
        "class Mapa:\n",
        "  matrix = []\n",
        "\n",
        "  def __init__(self, position):\n",
        "    self.row = position.row\n",
        "    self.column = position.column\n",
        "    self.matrix = [[0 for x in range(self.row)] for y in range(self.column)] \n",
        "\n",
        "  def printMapa(self):\n",
        "    print(\"Matriz: \\n\")\n",
        "    for term in self.matrix:\n",
        "      print(term)\n",
        "\n",
        "  def addRobot(self, position, robo):\n",
        "    self.matrix[position.row][position.column] = robo.value\n",
        "\n",
        "  def removeRobot(self, robo):\n",
        "    self.matrix[robo.position.row][robo.position.column] = 0\n",
        "    \n",
        "  def addTrash(self, value):\n",
        "    self.matrix[19][19] = value\n",
        "    \n",
        "  def addBin(self, value):\n",
        "    self.matrix[0][0] = value\n",
        "\n",
        "class Mundo:\n",
        "  def __init__(self):\n",
        "    self.agente = Robo(\"robo\", Position(0,0))\n",
        "    self.mapa = Mapa(Position(20,20))\n",
        "    self.mapa.addRobot(Position(0,0), self.agente)\n",
        "    self.mapa.addTrash(3)\n",
        "\n",
        "  def simpleMoveRobot(self):\n",
        "    while(self.agente.position.row+1 < self.mapa.row):\n",
        "      self.mapa.printMapa()\n",
        "\n",
        "      self.mapa.removeRobot(self.agente)\n",
        "      self.mapa.addRobot(Position(self.agente.position.row+1,0), self.agente)\n",
        "      self.agente.move(Position(self.agente.position.row+1,0))\n",
        "\n",
        "      for i in range(10000000):\n",
        "        self.mapa.addBin(0)\n",
        "      \n",
        "      output.clear()\n",
        "\n",
        "  def start(self):\n",
        "    self.simpleMoveRobot()"
      ]
    },
    {
      "cell_type": "code",
      "source": [
        "mundo = Mundo()\n",
        "\n",
        "mundo.start()"
      ],
      "metadata": {
        "colab": {
          "base_uri": "https://localhost:8080/"
        },
        "id": "PZxtl4-3YRmK",
        "outputId": "548dc05c-b6ae-4d77-9a33-0c1a8d2dc2d8"
      },
      "execution_count": null,
      "outputs": [
        {
          "output_type": "stream",
          "name": "stdout",
          "text": [
            "Matriz: \n",
            "\n",
            "[0, 0, 0, 0, 0, 0, 0, 0, 0, 0, 0, 0, 0, 0, 0, 0, 0, 0, 0, 0]\n",
            "[0, 0, 0, 0, 0, 0, 0, 0, 0, 0, 0, 0, 0, 0, 0, 0, 0, 0, 0, 0]\n",
            "[0, 0, 0, 0, 0, 0, 0, 0, 0, 0, 0, 0, 0, 0, 0, 0, 0, 0, 0, 0]\n",
            "[0, 0, 0, 0, 0, 0, 0, 0, 0, 0, 0, 0, 0, 0, 0, 0, 0, 0, 0, 0]\n",
            "[0, 0, 0, 0, 0, 0, 0, 0, 0, 0, 0, 0, 0, 0, 0, 0, 0, 0, 0, 0]\n",
            "[0, 0, 0, 0, 0, 0, 0, 0, 0, 0, 0, 0, 0, 0, 0, 0, 0, 0, 0, 0]\n",
            "[0, 0, 0, 0, 0, 0, 0, 0, 0, 0, 0, 0, 0, 0, 0, 0, 0, 0, 0, 0]\n",
            "[0, 0, 0, 0, 0, 0, 0, 0, 0, 0, 0, 0, 0, 0, 0, 0, 0, 0, 0, 0]\n",
            "[0, 0, 0, 0, 0, 0, 0, 0, 0, 0, 0, 0, 0, 0, 0, 0, 0, 0, 0, 0]\n",
            "[0, 0, 0, 0, 0, 0, 0, 0, 0, 0, 0, 0, 0, 0, 0, 0, 0, 0, 0, 0]\n",
            "[0, 0, 0, 0, 0, 0, 0, 0, 0, 0, 0, 0, 0, 0, 0, 0, 0, 0, 0, 0]\n",
            "[0, 0, 0, 0, 0, 0, 0, 0, 0, 0, 0, 0, 0, 0, 0, 0, 0, 0, 0, 0]\n",
            "[0, 0, 0, 0, 0, 0, 0, 0, 0, 0, 0, 0, 0, 0, 0, 0, 0, 0, 0, 0]\n",
            "[0, 0, 0, 0, 0, 0, 0, 0, 0, 0, 0, 0, 0, 0, 0, 0, 0, 0, 0, 0]\n",
            "[0, 0, 0, 0, 0, 0, 0, 0, 0, 0, 0, 0, 0, 0, 0, 0, 0, 0, 0, 0]\n",
            "[0, 0, 0, 0, 0, 0, 0, 0, 0, 0, 0, 0, 0, 0, 0, 0, 0, 0, 0, 0]\n",
            "[1, 0, 0, 0, 0, 0, 0, 0, 0, 0, 0, 0, 0, 0, 0, 0, 0, 0, 0, 0]\n",
            "[0, 0, 0, 0, 0, 0, 0, 0, 0, 0, 0, 0, 0, 0, 0, 0, 0, 0, 0, 0]\n",
            "[0, 0, 0, 0, 0, 0, 0, 0, 0, 0, 0, 0, 0, 0, 0, 0, 0, 0, 0, 0]\n",
            "[0, 0, 0, 0, 0, 0, 0, 0, 0, 0, 0, 0, 0, 0, 0, 0, 0, 0, 0, 3]\n"
          ]
        }
      ]
    }
  ]
}